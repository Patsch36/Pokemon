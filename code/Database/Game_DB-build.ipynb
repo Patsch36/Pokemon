{
 "cells": [
  {
   "cell_type": "code",
   "execution_count": 2,
   "metadata": {},
   "outputs": [],
   "source": [
    "import sqlite3 as db\n",
    "import sqlalchemy as dba"
   ]
  },
  {
   "cell_type": "code",
   "execution_count": 3,
   "metadata": {},
   "outputs": [],
   "source": [
    "db_name = \"..//Game_NPC.db\"\n",
    "db_connection = db.connect(db_name)"
   ]
  },
  {
   "cell_type": "code",
   "execution_count": 4,
   "metadata": {},
   "outputs": [],
   "source": [
    "db_cursor = db_connection.cursor()"
   ]
  },
  {
   "cell_type": "code",
   "execution_count": 5,
   "metadata": {},
   "outputs": [],
   "source": [
    "table_name = 'NPC' \n",
    "table_fields = 'NPCID, NPC_Sprite_link, PositionX, PositionY'\n",
    "sql_statement = f\"CREATE TABLE {table_name} ({table_fields})\""
   ]
  },
  {
   "cell_type": "code",
   "execution_count": 6,
   "metadata": {},
   "outputs": [],
   "source": [
    "try:\n",
    "    db_cursor.execute(sql_statement)\n",
    "except db.OperationalError as db_err:\n",
    "    print(str(db_err))"
   ]
  },
  {
   "cell_type": "code",
   "execution_count": 6,
   "metadata": {},
   "outputs": [
    {
     "data": {
      "text/plain": [
       "<sqlite3.Cursor at 0x1f505c00a40>"
      ]
     },
     "execution_count": 6,
     "metadata": {},
     "output_type": "execute_result"
    }
   ],
   "source": [
    "my_insert_statement = f\"INSERT INTO {table_name} VALUES(0001, NULL, 10, 5)\"\n",
    "db_cursor.execute(my_insert_statement)"
   ]
  },
  {
   "cell_type": "code",
   "execution_count": 7,
   "metadata": {},
   "outputs": [],
   "source": [
    "select_SQL = f\"SELECT * FROM {table_name} \""
   ]
  },
  {
   "cell_type": "code",
   "execution_count": 8,
   "metadata": {},
   "outputs": [
    {
     "name": "stdout",
     "output_type": "stream",
     "text": [
      "(1, None, 10, 5)\n"
     ]
    }
   ],
   "source": [
    "db_cursor.execute(select_SQL)\n",
    "for my_data in db_cursor.execute(select_SQL):\n",
    "    print(my_data)\n",
    "    "
   ]
  },
  {
   "cell_type": "code",
   "execution_count": 7,
   "metadata": {},
   "outputs": [
    {
     "name": "stdout",
     "output_type": "stream",
     "text": [
      "CREATE TABLE Dialog (NPCID, DialogNumber, Text)\n"
     ]
    }
   ],
   "source": [
    "table_name = 'Dialog' \n",
    "table_fields = 'NPCID, DialogNumber, Text'\n",
    "sql_statement = f\"CREATE TABLE {table_name} ({table_fields})\"\n",
    "print(sql_statement)"
   ]
  },
  {
   "cell_type": "code",
   "execution_count": 8,
   "metadata": {},
   "outputs": [],
   "source": [
    "try:\n",
    "    db_cursor.execute(sql_statement)\n",
    "except db.OperationalError as db_err:\n",
    "    print(str(db_err))"
   ]
  },
  {
   "cell_type": "code",
   "execution_count": 10,
   "metadata": {},
   "outputs": [
    {
     "data": {
      "text/plain": [
       "<sqlite3.Cursor at 0x1ee029243b0>"
      ]
     },
     "execution_count": 10,
     "metadata": {},
     "output_type": "execute_result"
    }
   ],
   "source": [
    "my_insert_statement = f\"INSERT INTO {table_name} VALUES(0001, 1, 'Hallo Welt')\"\n",
    "db_cursor.execute(my_insert_statement)"
   ]
  },
  {
   "cell_type": "code",
   "execution_count": 9,
   "metadata": {},
   "outputs": [
    {
     "name": "stdout",
     "output_type": "stream",
     "text": [
      "[('NPC',), ('Dialog',)]\n"
     ]
    }
   ],
   "source": [
    "db_cursor.execute(\"SELECT name FROM sqlite_master WHERE type='table';\")\n",
    "print(db_cursor.fetchall())"
   ]
  },
  {
   "cell_type": "code",
   "execution_count": 12,
   "metadata": {},
   "outputs": [],
   "source": [
    "select_SQL = f\"SELECT * FROM {table_name} \""
   ]
  },
  {
   "cell_type": "code",
   "execution_count": 13,
   "metadata": {},
   "outputs": [
    {
     "name": "stdout",
     "output_type": "stream",
     "text": [
      "(1, 1, 'Hallo Welt')\n"
     ]
    }
   ],
   "source": [
    "db_cursor.execute(select_SQL)\n",
    "for my_data in db_cursor.execute(select_SQL):\n",
    "    print(my_data)\n",
    "    "
   ]
  },
  {
   "cell_type": "code",
   "execution_count": 14,
   "metadata": {},
   "outputs": [],
   "source": [
    "npc_db_engine = dba.create_engine(\"sqlite:///\" + db_name)\n",
    "npc_db = npc_db_engine.connect()\n",
    "db_metadata = dba.MetaData()"
   ]
  },
  {
   "cell_type": "code",
   "execution_count": 15,
   "metadata": {},
   "outputs": [
    {
     "name": "stdout",
     "output_type": "stream",
     "text": [
      "['NPC']\n"
     ]
    },
    {
     "name": "stderr",
     "output_type": "stream",
     "text": [
      "C:\\Users\\sbasp\\AppData\\Local\\Packages\\PythonSoftwareFoundation.Python.3.7_qbz5n2kfra8p0\\LocalCache\\local-packages\\Python37\\site-packages\\ipykernel_launcher.py:1: SADeprecationWarning: The Engine.table_names() method is deprecated and will be removed in a future release.  Please refer to Inspector.get_table_names(). (deprecated since: 1.4)\n",
      "  \"\"\"Entry point for launching an IPython kernel.\n"
     ]
    }
   ],
   "source": [
    "print(npc_db_engine.table_names())"
   ]
  },
  {
   "cell_type": "code",
   "execution_count": 11,
   "metadata": {},
   "outputs": [],
   "source": [
    "db_cursor.close()"
   ]
  },
  {
   "cell_type": "code",
   "execution_count": null,
   "metadata": {},
   "outputs": [],
   "source": [
    "my_table = dba.Table(npc_db_engine.table_names(\"NPC_Dialog\"), db_metadata, autoload=True, autoload_with = npc_db_engine)\n",
    "query = dba.select(my_table).where(NPC_Dialog.c.NPC_ID ==1, NPC_Dialog.c.dialog_number == 1)\n",
    "data = npc_db.execute(query)\n",
    "text_data = data.fetchall()"
   ]
  },
  {
   "cell_type": "code",
   "execution_count": null,
   "metadata": {},
   "outputs": [],
   "source": [
    "print(data)\n",
    "print(query)"
   ]
  }
 ],
 "metadata": {
  "interpreter": {
   "hash": "c92e2136140a9ba1e4c74951bea1470694366aac06b6ef505b638ff9dd461874"
  },
  "kernelspec": {
   "display_name": "Python 3.7.9 64-bit (windows store)",
   "language": "python",
   "name": "python3"
  },
  "language_info": {
   "codemirror_mode": {
    "name": "ipython",
    "version": 3
   },
   "file_extension": ".py",
   "mimetype": "text/x-python",
   "name": "python",
   "nbconvert_exporter": "python",
   "pygments_lexer": "ipython3",
   "version": "3.7.9"
  },
  "orig_nbformat": 4
 },
 "nbformat": 4,
 "nbformat_minor": 2
}
